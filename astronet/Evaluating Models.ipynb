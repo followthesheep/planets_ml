{
 "cells": [
  {
   "cell_type": "code",
   "execution_count": 1,
   "metadata": {},
   "outputs": [
    {
     "name": "stderr",
     "output_type": "stream",
     "text": [
      "/home/idies/anaconda3/lib/python3.6/site-packages/h5py/__init__.py:36: FutureWarning: Conversion of the second argument of issubdtype from `float` to `np.floating` is deprecated. In future, it will be treated as `np.float64 == np.dtype(float).type`.\n",
      "  from ._conv import register_converters as _register_converters\n"
     ]
    }
   ],
   "source": [
    "from __future__ import absolute_import\n",
    "from __future__ import division\n",
    "from __future__ import print_function\n",
    "\n",
    "import argparse\n",
    "import sys\n",
    "\n",
    "import tensorflow as tf\n",
    "\n",
    "from astronet import models\n",
    "from astronet.util import config_util\n",
    "from astronet.util import configdict\n",
    "from astronet.util import estimator_util"
   ]
  },
  {
   "cell_type": "code",
   "execution_count": 2,
   "metadata": {},
   "outputs": [],
   "source": [
    "# Directory to save model checkpoints into.\n",
    "MODEL_DIR=\"/Volumes/data/kepler/checkpoints/\"\n",
    "\n",
    "# Directory to save output TFRecord files into.\n",
    "TFRECORD_DIR=\"/Volumes/data/kepler/tfrecord\"\n",
    "\n",
    "TCE_CSV_FILE=\"/Volumes/data/kepler/q1_q17_dr24_tce.csv\"\n",
    "\n",
    "# Directory to download Kepler light curves into.\n",
    "KEPLER_DATA_DIR=\"/Volumes/data/kepler/data/\""
   ]
  },
  {
   "cell_type": "code",
   "execution_count": 3,
   "metadata": {},
   "outputs": [],
   "source": [
    "from astronet import evaluate"
   ]
  },
  {
   "cell_type": "code",
   "execution_count": 4,
   "metadata": {},
   "outputs": [],
   "source": [
    "def main(_):\n",
    "  model_class = models.get_model_class(FLAGS.model)\n",
    "\n",
    "  # Look up the model configuration.\n",
    "  assert (FLAGS.config_name is None) != (FLAGS.config_json is None), (\n",
    "      \"Exactly one of --config_name or --config_json is required.\")\n",
    "  config = (\n",
    "      models.get_model_config(FLAGS.model, FLAGS.config_name)\n",
    "      if FLAGS.config_name else config_util.parse_json(FLAGS.config_json))\n",
    "\n",
    "  config = configdict.ConfigDict(config)\n",
    "\n",
    "  # Create the estimator.\n",
    "  estimator = estimator_util.create_estimator(\n",
    "      model_class, config.hparams, model_dir=FLAGS.model_dir)\n",
    "\n",
    "  # Create an input function that reads the evaluation dataset.\n",
    "  input_fn = estimator_util.create_input_fn(\n",
    "      file_pattern=FLAGS.eval_files,\n",
    "      input_config=config.inputs,\n",
    "      mode=tf.estimator.ModeKeys.EVAL)\n",
    "\n",
    "  # Run evaluation. This will log the result to stderr and also write a summary\n",
    "  # file in the model_dir.\n",
    "  estimator_util.evaluate(estimator, input_fn, eval_name=FLAGS.eval_name)"
   ]
  },
  {
   "cell_type": "code",
   "execution_count": 5,
   "metadata": {},
   "outputs": [
    {
     "name": "stdout",
     "output_type": "stream",
     "text": [
      "/home/idies/anaconda3/lib/python3.6/site-packages/h5py/__init__.py:36: FutureWarning: Conversion of the second argument of issubdtype from `float` to `np.floating` is deprecated. In future, it will be treated as `np.float64 == np.dtype(float).type`.\n",
      "  from ._conv import register_converters as _register_converters\n",
      "INFO:tensorflow:Using config: {'_model_dir': '/home/idies/workspace/Storage/tdo/planets_ml/checkpoints/', '_tf_random_seed': None, '_save_summary_steps': 100, '_save_checkpoints_steps': None, '_save_checkpoints_secs': 600, '_session_config': None, '_keep_checkpoint_max': 5, '_keep_checkpoint_every_n_hours': 10000, '_log_step_count_steps': 100, '_service': None, '_cluster_spec': <tensorflow.python.training.server_lib.ClusterSpec object at 0x7fa3e8e9ab70>, '_task_type': 'worker', '_task_id': 0, '_master': '', '_is_chief': True, '_num_ps_replicas': 0, '_num_worker_replicas': 1}\n",
      "2018-05-25 20:33:50.428574: I tensorflow/core/platform/cpu_feature_guard.cc:137] Your CPU supports instructions that this TensorFlow binary was not compiled to use: SSE4.1 SSE4.2\n",
      "INFO:tensorflow:Restoring parameters from /home/idies/workspace/Storage/tdo/planets_ml/checkpoints/model.ckpt-10000\n",
      "Prediction: 0.9859949\n"
     ]
    }
   ],
   "source": [
    "!./predict_example.sh\n"
   ]
  },
  {
   "cell_type": "code",
   "execution_count": null,
   "metadata": {},
   "outputs": [],
   "source": []
  }
 ],
 "metadata": {
  "kernelspec": {
   "display_name": "Python 3",
   "language": "python",
   "name": "python3"
  },
  "language_info": {
   "codemirror_mode": {
    "name": "ipython",
    "version": 3
   },
   "file_extension": ".py",
   "mimetype": "text/x-python",
   "name": "python",
   "nbconvert_exporter": "python",
   "pygments_lexer": "ipython3",
   "version": "3.6.3"
  }
 },
 "nbformat": 4,
 "nbformat_minor": 2
}
